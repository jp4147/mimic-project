{
 "cells": [
  {
   "cell_type": "markdown",
   "metadata": {},
   "source": [
    "## Load in patients dataset"
   ]
  },
  {
   "cell_type": "code",
   "execution_count": 1,
   "metadata": {},
   "outputs": [],
   "source": [
    "import dask.dataframe as dd\n",
    "import os\n",
    "\n",
    "## Path to the directory where the data is located\n",
    "data_dir = r'R:\\Kevin\\Data\\MIMIC'"
   ]
  },
  {
   "cell_type": "code",
   "execution_count": 2,
   "metadata": {},
   "outputs": [
    {
     "name": "stdout",
     "output_type": "stream",
     "text": [
      "Dask dataframe created for patients.csv\n",
      "Number of partitions: 1\n",
      "   subject_id gender  anchor_age  anchor_year anchor_year_group         dod\n",
      "0    10000032      F          52         2180       2014 - 2016  2180-09-09\n",
      "1    10000048      F          23         2126       2008 - 2010         NaN\n",
      "2    10000058      F          33         2168       2020 - 2022         NaN\n",
      "3    10000068      F          19         2160       2008 - 2010         NaN\n",
      "4    10000084      M          72         2160       2017 - 2019  2161-02-13\n"
     ]
    }
   ],
   "source": [
    "# Load the patients.csv file using Dask\n",
    "patients_df = dd.read_csv(os.path.join(data_dir, 'patients.csv'))\n",
    "\n",
    "# Show some basic information\n",
    "print(\"Dask dataframe created for patients.csv\")\n",
    "print(\"Number of partitions:\", patients_df.npartitions)\n",
    "print(patients_df.head())"
   ]
  },
  {
   "cell_type": "markdown",
   "metadata": {},
   "source": [
    "## Load in lab events dataset"
   ]
  },
  {
   "cell_type": "code",
   "execution_count": 27,
   "metadata": {},
   "outputs": [
    {
     "name": "stdout",
     "output_type": "stream",
     "text": [
      "Dask dataframe created for labevents.csv\n",
      "Number of partitions: 287\n",
      "   labevent_id  subject_id  hadm_id  specimen_id  itemid order_provider_id  \\\n",
      "0            1    10000032      NaN      2704548   50931            P69FQC   \n",
      "1            2    10000032      NaN     36092842   51071            P69FQC   \n",
      "2            3    10000032      NaN     36092842   51074            P69FQC   \n",
      "3            4    10000032      NaN     36092842   51075            P69FQC   \n",
      "4            5    10000032      NaN     36092842   51079            P69FQC   \n",
      "\n",
      "             charttime            storetime value  valuenum valueuom  \\\n",
      "0  2180-03-23 11:51:00  2180-03-23 15:56:00   ___      95.0    mg/dL   \n",
      "1  2180-03-23 11:51:00  2180-03-23 16:00:00   NEG       NaN      NaN   \n",
      "2  2180-03-23 11:51:00  2180-03-23 16:00:00   NEG       NaN      NaN   \n",
      "3  2180-03-23 11:51:00  2180-03-23 16:00:00   NEG       NaN      NaN   \n",
      "4  2180-03-23 11:51:00  2180-03-23 16:00:00   NEG       NaN      NaN   \n",
      "\n",
      "   ref_range_lower  ref_range_upper flag priority  \\\n",
      "0             70.0            100.0  NaN  ROUTINE   \n",
      "1              NaN              NaN  NaN  ROUTINE   \n",
      "2              NaN              NaN  NaN  ROUTINE   \n",
      "3              NaN              NaN  NaN  ROUTINE   \n",
      "4              NaN              NaN  NaN  ROUTINE   \n",
      "\n",
      "                                            comments  \n",
      "0  IF FASTING, 70-100 NORMAL, >125 PROVISIONAL DI...  \n",
      "1                                                NaN  \n",
      "2                                                NaN  \n",
      "3  BENZODIAZEPINE IMMUNOASSAY SCREEN DOES NOT DET...  \n",
      "4                                                NaN  \n"
     ]
    }
   ],
   "source": [
    "# Load the labevents.csv file using Dask\n",
    "labevents_df = dd.read_csv(os.path.join(data_dir, 'labevents.csv'))\n",
    "\n",
    "# Show some basic information\n",
    "print(\"Dask dataframe created for labevents.csv\")\n",
    "print(\"Number of partitions:\", labevents_df.npartitions)\n",
    "print(labevents_df.head())"
   ]
  },
  {
   "cell_type": "markdown",
   "metadata": {},
   "source": [
    "## Load in lab items dataset"
   ]
  },
  {
   "cell_type": "code",
   "execution_count": 22,
   "metadata": {},
   "outputs": [
    {
     "name": "stdout",
     "output_type": "stream",
     "text": [
      "Dask dataframe created for d_labitems.csv\n",
      "Number of partitions: 1\n",
      "   itemid                                label  fluid   category\n",
      "0   50801           Alveolar-arterial Gradient  Blood  Blood Gas\n",
      "1   50802                          Base Excess  Blood  Blood Gas\n",
      "2   50803  Calculated Bicarbonate, Whole Blood  Blood  Blood Gas\n",
      "3   50804                 Calculated Total CO2  Blood  Blood Gas\n",
      "4   50805                    Carboxyhemoglobin  Blood  Blood Gas\n"
     ]
    }
   ],
   "source": [
    "# Load the d_labitems.csv file using Dask\n",
    "d_labitems_df = dd.read_csv(os.path.join(data_dir, 'd_labitems.csv'))\n",
    "\n",
    "# Show some basic information\n",
    "print(\"Dask dataframe created for d_labitems.csv\")\n",
    "print(\"Number of partitions:\", d_labitems_df.npartitions)\n",
    "print(d_labitems_df.head())"
   ]
  },
  {
   "cell_type": "markdown",
   "metadata": {},
   "source": [
    "## Load in admissions df"
   ]
  },
  {
   "cell_type": "code",
   "execution_count": 6,
   "metadata": {},
   "outputs": [
    {
     "name": "stdout",
     "output_type": "stream",
     "text": [
      "Dask dataframe created for admissions.csv.gz\n",
      "Number of partitions: 1\n"
     ]
    }
   ],
   "source": [
    "# Load admissions.csv.gz\n",
    "admissions_df = dd.read_csv(os.path.join(data_dir, 'admissions.csv'))\n",
    "print(\"Dask dataframe created for admissions.csv.gz\")\n",
    "print(\"Number of partitions:\", admissions_df.npartitions)\n"
   ]
  },
  {
   "cell_type": "code",
   "execution_count": 7,
   "metadata": {},
   "outputs": [
    {
     "data": {
      "text/html": [
       "<div><strong>Dask DataFrame Structure:</strong></div>\n",
       "<table border=\"1\" class=\"dataframe\">\n",
       "  <thead>\n",
       "    <tr style=\"text-align: right;\">\n",
       "      <th></th>\n",
       "      <th>subject_id</th>\n",
       "      <th>hadm_id</th>\n",
       "      <th>admittime</th>\n",
       "      <th>dischtime</th>\n",
       "      <th>deathtime</th>\n",
       "      <th>admission_type</th>\n",
       "      <th>admit_provider_id</th>\n",
       "      <th>admission_location</th>\n",
       "      <th>discharge_location</th>\n",
       "      <th>insurance</th>\n",
       "      <th>language</th>\n",
       "      <th>marital_status</th>\n",
       "      <th>race</th>\n",
       "      <th>edregtime</th>\n",
       "      <th>edouttime</th>\n",
       "      <th>hospital_expire_flag</th>\n",
       "    </tr>\n",
       "    <tr>\n",
       "      <th>npartitions=1</th>\n",
       "      <th></th>\n",
       "      <th></th>\n",
       "      <th></th>\n",
       "      <th></th>\n",
       "      <th></th>\n",
       "      <th></th>\n",
       "      <th></th>\n",
       "      <th></th>\n",
       "      <th></th>\n",
       "      <th></th>\n",
       "      <th></th>\n",
       "      <th></th>\n",
       "      <th></th>\n",
       "      <th></th>\n",
       "      <th></th>\n",
       "      <th></th>\n",
       "    </tr>\n",
       "  </thead>\n",
       "  <tbody>\n",
       "    <tr>\n",
       "      <th></th>\n",
       "      <td>int64</td>\n",
       "      <td>int64</td>\n",
       "      <td>string</td>\n",
       "      <td>string</td>\n",
       "      <td>float64</td>\n",
       "      <td>string</td>\n",
       "      <td>string</td>\n",
       "      <td>string</td>\n",
       "      <td>string</td>\n",
       "      <td>string</td>\n",
       "      <td>string</td>\n",
       "      <td>string</td>\n",
       "      <td>string</td>\n",
       "      <td>string</td>\n",
       "      <td>string</td>\n",
       "      <td>int64</td>\n",
       "    </tr>\n",
       "    <tr>\n",
       "      <th></th>\n",
       "      <td>...</td>\n",
       "      <td>...</td>\n",
       "      <td>...</td>\n",
       "      <td>...</td>\n",
       "      <td>...</td>\n",
       "      <td>...</td>\n",
       "      <td>...</td>\n",
       "      <td>...</td>\n",
       "      <td>...</td>\n",
       "      <td>...</td>\n",
       "      <td>...</td>\n",
       "      <td>...</td>\n",
       "      <td>...</td>\n",
       "      <td>...</td>\n",
       "      <td>...</td>\n",
       "      <td>...</td>\n",
       "    </tr>\n",
       "  </tbody>\n",
       "</table>\n",
       "<div>Dask Name: read_csv, 1 expression</div>"
      ],
      "text/plain": [
       "Dask DataFrame Structure:\n",
       "              subject_id hadm_id admittime dischtime deathtime admission_type admit_provider_id admission_location discharge_location insurance language marital_status    race edregtime edouttime hospital_expire_flag\n",
       "npartitions=1                                                                                                                                                                                                           \n",
       "                   int64   int64    string    string   float64         string            string             string             string    string   string         string  string    string    string                int64\n",
       "                     ...     ...       ...       ...       ...            ...               ...                ...                ...       ...      ...            ...     ...       ...       ...                  ...\n",
       "Dask Name: read_csv, 1 expression\n",
       "Expr=ReadCSV(15e7bfa)"
      ]
     },
     "execution_count": 7,
     "metadata": {},
     "output_type": "execute_result"
    }
   ],
   "source": [
    "admissions_df"
   ]
  },
  {
   "cell_type": "markdown",
   "metadata": {},
   "source": [
    "## Determined tests of interest"
   ]
  },
  {
   "cell_type": "code",
   "execution_count": 8,
   "metadata": {},
   "outputs": [
    {
     "name": "stdout",
     "output_type": "stream",
     "text": [
      "      itemid                           label  fluid   category\n",
      "50     50852                % Hemoglobin A1c  Blood  Chemistry\n",
      "53     50855             Absolute Hemoglobin  Blood  Chemistry\n",
      "59     50861  Alanine Aminotransferase (ALT)  Blood  Chemistry\n",
      "60     50862                         Albumin  Blood  Chemistry\n",
      "61     50863            Alkaline Phosphatase  Blood  Chemistry\n",
      "...      ...                             ...    ...        ...\n",
      "1621   53162                          RDW-SD  Blood  Chemistry\n",
      "1641   53182                            MCHC  Blood  Chemistry\n",
      "1643   53184                             MCH  Blood  Chemistry\n",
      "1647   53188                     Lymphocytes  Blood  Chemistry\n",
      "1648   53189                  Platelet Count  Blood  Chemistry\n",
      "\n",
      "[214 rows x 4 columns]\n"
     ]
    }
   ],
   "source": [
    "# Updated test lists according to routine tests in outpatient settings\n",
    "cbc_tests = ['WBC', 'WHITE BLOOD CELL', 'RED BLOOD CELL', 'RBC', 'HEMOGLOBIN', 'HEMATOCRIT', 'PLATELET', 'MCV', 'MCH', 'MCHC', \n",
    "             'RDW', 'NEUTROPHIL', 'LYMPHOCYTES', 'MONOCYTES', 'EOSINOPHILS', 'BASOPHILS', 'GRANULOCYTES']\n",
    "cmp_tests = ['SODIUM', 'POTASSIUM', 'CHLORIDE', 'BICARBONATE', 'BUN', 'CREATININE', 'GLUCOSE', \n",
    "             'CALCIUM', 'TOTAL PROTEIN', 'ALBUMIN', 'GLOBULIN', 'BILIRUBIN', 'ALKALINE PHOSPHATASE', 'ALT', 'AST']\n",
    "lipids_tests = ['CHOLESTEROL', 'LDL', 'HDL', 'TRIGLYCERIDES']\n",
    "diabetes_tests = ['HEMOGLOBIN A1C', 'HbAIC']\n",
    "thyroid_tests = ['TSH', 'FREE T4', 'THYROXINE', 'TRIIODOTHYRONINE']\n",
    "urine_tests = ['URINALYSIS', 'MICROALBUMIN', 'CREATININE RATIO', 'YEAST','HYALINE', 'PROTEIN', 'GLUCOSE', 'KETONE',\n",
    "               'UROBILINOGEN','MCNC','NITRITE','LEUKOCYTE ESTERASE']\n",
    "surgery_tests = ['PT', 'INR']\n",
    "\n",
    "# Combine all test names\n",
    "all_tests = cbc_tests + cmp_tests + lipids_tests + diabetes_tests + thyroid_tests + urine_tests + surgery_tests\n",
    "\n",
    "# Create a regex pattern to match any of the test labels as substrings (case-insensitive)\n",
    "pattern = '|'.join([test.upper() for test in all_tests])\n",
    "\n",
    "# Ensure no NaN values in the relevant columns (fill them with an empty string)\n",
    "d_labitems_df = d_labitems_df.fillna({'label': '', 'fluid': '', 'category': ''})\n",
    "\n",
    "# Filter d_labitems for labels that contain any of the routine test names\n",
    "# and ensure the fluid is 'Blood' or 'Urine', and the category is either 'Chemistry' or 'Hematology'\n",
    "filtered_tests = d_labitems_df[\n",
    "    d_labitems_df['label'].str.upper().str.contains(pattern, regex=True) &\n",
    "    (d_labitems_df['fluid'].str.upper().isin(['BLOOD', 'URINE'])) &\n",
    "    (d_labitems_df['category'].str.upper().isin(['CHEMISTRY', 'HEMATOLOGY']))\n",
    "]\n",
    "\n",
    "# Compute the results\n",
    "filtered_tests_result = filtered_tests.compute()\n",
    "\n",
    "# Display the filtered tests\n",
    "print(filtered_tests_result)\n",
    "\n"
   ]
  },
  {
   "cell_type": "markdown",
   "metadata": {},
   "source": [
    "## Excluded certain tests based on John's input"
   ]
  },
  {
   "cell_type": "code",
   "execution_count": 9,
   "metadata": {},
   "outputs": [
    {
     "name": "stdout",
     "output_type": "stream",
     "text": [
      "      itemid                           label  fluid   category\n",
      "50     50852                % Hemoglobin A1c  Blood  Chemistry\n",
      "53     50855             Absolute Hemoglobin  Blood  Chemistry\n",
      "59     50861  Alanine Aminotransferase (ALT)  Blood  Chemistry\n",
      "60     50862                         Albumin  Blood  Chemistry\n",
      "61     50863            Alkaline Phosphatase  Blood  Chemistry\n",
      "...      ...                             ...    ...        ...\n",
      "1621   53162                          RDW-SD  Blood  Chemistry\n",
      "1641   53182                            MCHC  Blood  Chemistry\n",
      "1643   53184                             MCH  Blood  Chemistry\n",
      "1647   53188                     Lymphocytes  Blood  Chemistry\n",
      "1648   53189                  Platelet Count  Blood  Chemistry\n",
      "\n",
      "[182 rows x 4 columns]\n"
     ]
    }
   ],
   "source": [
    "# Exclude tests that we decide should not be included\n",
    "excluded_itemids = [50889, 51100, 50950, 50935, 50949, 50951, 51097, 51078, 50864, 51067, 50881, 51005, 50982, 50877, 51224, 51077, \n",
    "                    50991, 51076, 51068, 51225, 51223, 51066, 51271, 51273, 51106, 51212, 51272, 51270, 51073, 52129, 51280, 51281]\n",
    "filtered_tests_result = filtered_tests_result[~filtered_tests_result['itemid'].isin(excluded_itemids)]\n",
    "# Display the filtered tests\n",
    "print(filtered_tests_result)"
   ]
  },
  {
   "cell_type": "markdown",
   "metadata": {},
   "source": [
    "## Crate lookup for patients table and a race lookup for each subject"
   ]
  },
  {
   "cell_type": "code",
   "execution_count": 23,
   "metadata": {},
   "outputs": [],
   "source": [
    "# Assuming filtered_tests_result and other necessary Dask DataFrames (labevents_df, patients_df, admissions_df) are already loaded\n",
    "\n",
    "# Convert d_labitems_df to pandas to map itemid to test names\n",
    "lab_test_map = dict(zip(filtered_tests_result['itemid'], filtered_tests_result['label']))\n",
    "\n",
    "# Convert patients_df to a lookup dictionary for demographics (using only the available columns)\n",
    "patients_lookup = patients_df.set_index('subject_id')[['anchor_age', 'anchor_year', 'gender']].compute().to_dict(orient='index')\n",
    "\n",
    "# Compute the admissions DataFrame to Pandas for easier manipulation\n",
    "admissions_df_pandas = admissions_df[['subject_id', 'race']].compute()\n",
    "\n",
    "# Group by subject_id and check for patients with multiple unique races\n",
    "race_counts = admissions_df_pandas.groupby('subject_id')['race'].nunique()\n",
    "\n",
    "# Create a race lookup dictionary:\n",
    "# - If a patient has a single race, use that race.\n",
    "# - If a patient has multiple races, set race to 'Unknown'.\n",
    "race_lookup = {}\n",
    "for subject_id, unique_races in race_counts.items():\n",
    "    if unique_races == 1:\n",
    "        race_lookup[subject_id] = admissions_df_pandas[admissions_df_pandas['subject_id'] == subject_id]['race'].iloc[0]\n",
    "    else:\n",
    "        race_lookup[subject_id] = 'Unknown'"
   ]
  },
  {
   "cell_type": "markdown",
   "metadata": {},
   "source": [
    "## Merge patient data with lab events"
   ]
  },
  {
   "cell_type": "code",
   "execution_count": 38,
   "metadata": {},
   "outputs": [
    {
     "name": "stdout",
     "output_type": "stream",
     "text": [
      "   labevent_id  subject_id  hadm_id  specimen_id  itemid order_provider_id  \\\n",
      "0            1    10000032      NaN      2704548   50931            P69FQC   \n",
      "1            2    10000032      NaN     36092842   51071            P69FQC   \n",
      "2            3    10000032      NaN     36092842   51074            P69FQC   \n",
      "3            4    10000032      NaN     36092842   51075            P69FQC   \n",
      "4            5    10000032      NaN     36092842   51079            P69FQC   \n",
      "\n",
      "             charttime            storetime value  valuenum  ...  \\\n",
      "0  2180-03-23 11:51:00  2180-03-23 15:56:00   ___      95.0  ...   \n",
      "1  2180-03-23 11:51:00  2180-03-23 16:00:00   NEG       NaN  ...   \n",
      "2  2180-03-23 11:51:00  2180-03-23 16:00:00   NEG       NaN  ...   \n",
      "3  2180-03-23 11:51:00  2180-03-23 16:00:00   NEG       NaN  ...   \n",
      "4  2180-03-23 11:51:00  2180-03-23 16:00:00   NEG       NaN  ...   \n",
      "\n",
      "                                            comments  anchor_age_x  \\\n",
      "0  IF FASTING, 70-100 NORMAL, >125 PROVISIONAL DI...            52   \n",
      "1                                                NaN            52   \n",
      "2                                                NaN            52   \n",
      "3  BENZODIAZEPINE IMMUNOASSAY SCREEN DOES NOT DET...            52   \n",
      "4                                                NaN            52   \n",
      "\n",
      "   anchor_year_x gender_x anchor_age_y anchor_year_y  gender_y  anchor_age  \\\n",
      "0           2180        F           52          2180         F          52   \n",
      "1           2180        F           52          2180         F          52   \n",
      "2           2180        F           52          2180         F          52   \n",
      "3           2180        F           52          2180         F          52   \n",
      "4           2180        F           52          2180         F          52   \n",
      "\n",
      "  anchor_year  gender  \n",
      "0        2180       F  \n",
      "1        2180       F  \n",
      "2        2180       F  \n",
      "3        2180       F  \n",
      "4        2180       F  \n",
      "\n",
      "[5 rows x 25 columns]\n"
     ]
    },
    {
     "name": "stderr",
     "output_type": "stream",
     "text": [
      "Processing Lab Event Partitions:   0%|          | 0/287 [01:15<?, ?it/s]\n",
      "Processing Lab Event Partitions: 100%|██████████| 287/287 [44:42<00:00,  9.35s/it]\n"
     ]
    },
    {
     "name": "stdout",
     "output_type": "stream",
     "text": [
      "[(10000032, {'Alanine Aminotransferase (ALT) (IU/L)': [(102.0, 52), (100.0, 52), (88.0, 52), (110.0, 52), (113.0, 52), (126.0, 52), (117.0, 52), (153.0, 52), (114.0, 52), (96.0, 52), (135.0, 52), (132.0, 52), (112.0, 52), (120.0, 52)], 'Albumin (g/dL)': [(3.3, 52), (3.3, 52), (3.3, 52), (2.8, 52), (2.7, 52), (3.6, 52), (3.8, 52), (3.5, 52), (3.5, 52), (3.5, 52), (3.3, 52)], 'Alkaline Phosphatase (IU/L)': [(109.0, 52), (114.0, 52), (103.0, 52), (116.0, 52), (117.0, 52), (117.0, 52), (110.0, 52), (114.0, 52), (86.0, 52), (69.0, 52), (123.0, 52), (112.0, 52), (101.0, 52), (115.0, 52)], 'Asparate Aminotransferase (AST) (IU/L)': [(143.0, 52), (114.0, 52), (98.0, 52), (162.0, 52), (182.0, 52), (158.0, 52), (275.0, 52), (187.0, 52), (168.0, 52), (244.0, 52), (221.0, 52), (176.0, 52), (206.0, 52)], 'Basophils (%)': [(0.5, 52), (0.8, 52), (0.5, 52), (0.5, 52), (0.3, 52), (0.5, 52), (0.2, 52)], 'Bicarbonate (mEq/L)': [(27.0, 52), (27.0, 52), (28.0, 52), (29.0, 52), (28.0, 52), (26.0, 52), (26.0, 52), (25.0, 52), (25.0, 52), (21.0, 52), (24.0, 52), (27.0, 52), (22.0, 52), (24.0, 52), (26.0, 52), (25.0, 52), (24.0, 52), (23.0, 52)], 'Bilirubin, Total (mg/dL)': [(1.6, 52), (1.6, 52), (1.3, 52), (1.6, 52), (1.9, 52), (0.9, 52), (1.2, 52), (1.9, 52), (2.7, 52), (1.7, 52), (1.3, 52), (1.6, 52), (2.8, 52), (1.0, 52)], 'Calcium, Total (mg/dL)': [(8.4, 52), (7.8, 52), (8.4, 52), (8.6, 52), (8.0, 52), (7.8, 52), (9.3, 52), (9.2, 52), (8.6, 52), (8.3, 52), (8.6, 52), (8.7, 52), (8.8, 52)], 'Chloride (mEq/L)': [(101.0, 52), (105.0, 52), (105.0, 52), (99.0, 52), (100.0, 52), (95.0, 52), (92.0, 52), (92.0, 52), (95.0, 52), (102.0, 52), (102.0, 52), (97.0, 52), (96.0, 52), (99.0, 52), (95.0, 52), (97.0, 52), (95.0, 52), (94.0, 52), (93.0, 52), (93.0, 52), (91.0, 52)], 'Cholesterol Ratio (Total/HDL) (Ratio)': [(3.9, 52)], 'Cholesterol, HDL (mg/dL)': [(52.0, 52)], 'Cholesterol, LDL, Calculated (mg/dL)': [(135.0, 52)], 'Cholesterol, Total (mg/dL)': [(202.0, 52)], 'Creatinine (mg/dL)': [(0.4, 52), (0.3, 52), (0.3, 52), (0.4, 52), (0.4, 52), (0.3, 52), (0.6, 52), (0.3, 52), (0.7, 52), (0.5, 52), (0.4, 52), (0.4, 52), (0.6, 52), (0.6, 52), (0.6, 52), (0.4, 52), (0.4, 52), (0.8, 52)], 'Eosinophils (%)': [(3.8, 52), (4.2, 52), (2.8, 52), (2.3, 52), (2.5, 52), (2.7, 52), (2.5, 52)], 'Glucose (mg/dL)': [(95.0, 52), (109.0, 52), (99.0, 52), (122.0, 52), (127.0, 52), (88.0, 52), (92.0, 52), (71.0, 52), (102.0, 52), (115.0, 52), (107.0, 52), (121.0, 52), (118.0, 52), (95.0, 52), (102.0, 52), (87.0, 52), (155.0, 52)], 'Hematocrit (%)': [(45.4, 52), (42.6, 52), (37.6, 52), (41.6, 52), (38.3, 52), (35.5, 52), (41.1, 52), (34.8, 52), (32.1, 52), (36.7, 52), (34.6, 52), (33.5, 52), (33.7, 52)], 'Hemoglobin (g/dL)': [(14.9, 52), (14.3, 52), (12.7, 52), (14.0, 52), (13.4, 52), (12.4, 52), (14.1, 52), (11.9, 52), (11.2, 52), (12.3, 52), (12.1, 52), (11.6, 52), (11.6, 52)], 'INR(PT) ()': [(1.4, 52), (1.6, 52), (1.5, 52), (1.4, 52), (1.5, 52), (1.5, 52), (1.8, 52), (2.0, 52), (1.9, 52), (1.7, 52), (1.5, 52), (1.7, 52), (1.6, 52)], 'Lymphocytes (%)': [(23.3, 52), (16.5, 52), (16.4, 52), (16.6, 52), (14.7, 52), (22.0, 52), (12.8, 52)], 'MCH (pg)': [(33.8, 52), (33.3, 52), (33.4, 52), (33.7, 52), (35.0, 52), (34.5, 52), (35.4, 52), (34.9, 52), (35.4, 52), (35.5, 52), (35.9, 52), (35.5, 52), (35.3, 52)], 'MCHC (%)': [(32.7, 52), (33.5, 52), (33.8, 52), (33.5, 52), (35.0, 52), (35.0, 52), (34.3, 52), (34.1, 52), (34.8, 52), (33.6, 52), (34.8, 52), (34.5, 52), (34.3, 52)], 'MCV (fL)': [(103.0, 52), (99.0, 52), (99.0, 52), (101.0, 52), (100.0, 52), (99.0, 52), (103.0, 52), (102.0, 52), (102.0, 52), (106.0, 52), (103.0, 52), (103.0, 52), (103.0, 52)], 'Monocytes (%)': [(8.3, 52), (8.1, 52), (8.5, 52), (11.6, 52), (9.8, 52), (7.9, 52), (9.7, 52)], 'Neutrophils (%)': [(64.1, 52), (70.3, 52), (71.8, 52), (69.1, 52), (72.7, 52), (66.9, 52), (74.8, 52)], 'PT (sec)': [(15.1, 52), (17.2, 52), (16.6, 52), (15.5, 52), (16.3, 52), (16.2, 52), (19.5, 52), (21.6, 52), (20.9, 52), (17.8, 52), (15.8, 52), (18.0, 52), (17.4, 52)], 'PTT (sec)': [(30.9, 52), (32.3, 52), (32.4, 52), (34.2, 52), (37.6, 52), (31.8, 52), (32.5, 52), (36.0, 52)], 'Platelet Count (K/uL)': [(83.0, 52), (71.0, 52), (71.0, 52), (113.0, 52), (143.0, 52), (137.0, 52), (145.0, 52), (94.0, 52), (95.0, 52), (131.0, 52), (133.0, 52), (107.0, 52), (136.0, 52)], 'Potassium (mEq/L)': [(3.7, 52), (3.4, 52), (4.5, 52), (3.3, 52), (3.4, 52), (5.1, 52), (5.2, 52), (5.2, 52), (6.7, 52), (4.7, 52), (5.0, 52), (5.2, 52), (6.5, 52), (5.4, 52), (5.3, 52), (5.3, 52), (6.3, 52), (6.9, 52), (5.3, 52), (5.4, 52), (5.3, 52)], 'Protein (mg/dL)': [(30.0, 52)], 'RBC (#/hpf)': [(2.0, 52), (1.0, 52)], 'RDW (%)': [(16.0, 52), (15.7, 52), (15.3, 52), (15.8, 52), (15.9, 52), (15.7, 52), (15.8, 52), (15.8, 52), (15.8, 52), (16.5, 52), (16.0, 52), (16.1, 52), (16.1, 52)], 'Red Blood Cells (m/uL)': [(4.4, 52), (4.29, 52), (3.8, 52), (4.14, 52), (3.84, 52), (3.6, 52), (3.98, 52), (3.4, 52), (3.15, 52), (3.48, 52), (3.36, 52), (3.27, 52), (3.27, 52)], 'Sodium (mEq/L)': [(136.0, 52), (138.0, 52), (137.0, 52), (135.0, 52), (135.0, 52), (128.0, 52), (125.0, 52), (126.0, 52), (126.0, 52), (132.0, 52), (130.0, 52), (130.0, 52), (124.0, 52), (126.0, 52), (127.0, 52), (127.0, 52), (126.0, 52), (119.0, 52), (123.0, 52), (124.0, 52)], 'Thyroxine (T4), Free (ng/dL)': [(1.1, 52)], 'Triglycerides (mg/dL)': [(73.0, 52)], 'Urobilinogen (mg/dL)': [(2.0, 52), (4.0, 52)], 'WBC (#/hpf)': [(6.0, 52), (13.0, 52)], 'White Blood Cells (K/uL)': [(3.0, 52), (5.0, 52), (4.2, 52), (5.1, 52), (6.6, 52), (6.6, 52), (6.9, 52), (4.1, 52), (4.8, 52), (8.2, 52), (7.5, 52), (5.6, 52), (8.0, 52)], 'demographics': [52, 'F', 'WHITE']}), (10000048, {'Alanine Aminotransferase (ALT) (IU/L)': [(39.0, 23)], 'Albumin (g/dL)': [(4.7, 23)], 'Alkaline Phosphatase (IU/L)': [(45.0, 23)], 'Asparate Aminotransferase (AST) (IU/L)': [(28.0, 23)], 'Basophils (%)': [(0.1, 23)], 'Bicarbonate (mEq/L)': [(26.0, 23)], 'Bilirubin, Total (mg/dL)': [(0.6, 23)], 'Chloride (mEq/L)': [(106.0, 23)], 'Creatinine (mg/dL)': [(0.7, 23)], 'Eosinophils (%)': [(0.1, 23)], 'Glucose (mg/dL)': [(95.0, 23)], 'Hematocrit (%)': [(38.2, 23)], 'Hemoglobin (g/dL)': [(13.0, 23)], 'Ketone (mg/dL)': [(150.0, 23)], 'Lymphocytes (%)': [(8.9, 23)], 'MCH (pg)': [(30.9, 23)], 'MCHC (%)': [(33.9, 23)], 'MCV (fL)': [(91.0, 23)], 'Monocytes (%)': [(2.6, 23)], 'Neutrophils (%)': [(88.3, 23)], 'Platelet Count (K/uL)': [(194.0, 23)], 'Potassium (mEq/L)': [(4.0, 23)], 'RDW (%)': [(12.4, 23)], 'Red Blood Cells (m/uL)': [(4.2, 23)], 'Sodium (mEq/L)': [(141.0, 23)], 'White Blood Cells (K/uL)': [(9.6, 23)], 'demographics': [23, 'F', 'Unknown']}), (10000058, {'Absolute Neutrophil Count (K/uL)': [(3.11, 33)], 'Basophils (%)': [(0.9, 33)], 'Bicarbonate (mEq/L)': [(21.0, 33)], 'Chloride (mEq/L)': [(103.0, 33)], 'Creatinine (mg/dL)': [(0.8, 33)], 'Eosinophils (%)': [(1.3, 33)], 'Glucose (mg/dL)': [(95.0, 33)], 'Hematocrit (%)': [(33.5, 33)], 'Hemoglobin (g/dL)': [(10.2, 33)], 'Immature Granulocytes (%)': [(0.2, 33)], 'Lymphocytes (%)': [(25.1, 33)], 'MCH (pg)': [(26.8, 33)], 'MCHC (g/dL)': [(30.4, 33)], 'MCV (fL)': [(88.0, 33)], 'Monocytes (%)': [(14.1, 33)], 'Neutrophils (%)': [(58.4, 33)], 'Platelet Count (K/uL)': [(288.0, 33)], 'Potassium (mEq/L)': [(4.5, 33)], 'RDW (%)': [(15.9, 33)], 'RDW-SD (fL)': [(51.6, 33)], 'Red Blood Cells (m/uL)': [(3.8, 33)], 'Sodium (mEq/L)': [(139.0, 33)], 'White Blood Cells (K/uL)': [(5.3, 33)], 'demographics': [33, 'F', 'Unknown']}), (10000084, {'Absolute Neutrophil Count (K/uL)': [(4.13, 72), (5.87, 72)], 'Alanine Aminotransferase (ALT) (IU/L)': [(18.0, 72), (21.0, 72)], 'Albumin (g/dL)': [(4.0, 72), (3.9, 72)], 'Alkaline Phosphatase (IU/L)': [(39.0, 72), (49.0, 72)], 'Asparate Aminotransferase (AST) (IU/L)': [(38.0, 72), (45.0, 72)], 'Basophils (%)': [(0.6, 72), (0.5, 72)], 'Bicarbonate (mEq/L)': [(19.0, 72), (24.0, 72), (23.0, 72), (25.0, 72), (24.0, 72), (24.0, 72)], 'Bilirubin, Total (mg/dL)': [(0.4, 72), (0.6, 72)], 'Calcium, Total (mg/dL)': [(9.9, 72), (9.5, 72), (9.7, 72), (9.3, 72), (9.5, 72), (9.6, 72)], 'Chloride (mEq/L)': [(98.0, 72), (98.0, 72), (100.0, 72), (100.0, 72), (104.0, 72), (104.0, 72)], 'Creatinine (mg/dL)': [(0.8, 72), (0.7, 72), (0.7, 72), (0.7, 72), (0.7, 72), (0.8, 72)], 'Eosinophils (%)': [(2.0, 72), (0.5, 72)], 'Glucose (mg/dL)': [(100.0, 72), (94.0, 72), (97.0, 72), (88.0, 72), (88.0, 72), (108.0, 72)], 'Hematocrit (%)': [(38.2, 72), (39.8, 72), (40.5, 72), (39.8, 72), (38.1, 72), (39.6, 72)], 'Hemoglobin (g/dL)': [(12.8, 72), (13.3, 72), (13.9, 72), (13.4, 72), (12.9, 72), (13.0, 72)], 'INR(PT) ()': [(1.0, 72)], 'Immature Granulocytes (%)': [(0.1, 72), (0.2, 72)], 'Lymphocytes (%)': [(33.3, 72), (20.0, 72)], 'MCH (pg)': [(31.8, 72), (31.9, 72), (32.4, 72), (32.1, 72), (32.1, 72), (31.8, 72)], 'MCHC (g/dL)': [(33.5, 72), (33.4, 72), (34.3, 72), (33.7, 72), (33.9, 72), (32.8, 72)], 'MCV (fL)': [(95.0, 72), (95.0, 72), (94.0, 72), (95.0, 72), (95.0, 72), (97.0, 72)], 'Monocytes (%)': [(15.9, 72), (11.2, 72)], 'Neutrophils (%)': [(48.1, 72), (67.6, 72)], 'PT (sec)': [(11.1, 72)], 'PTT (sec)': [(23.4, 72)], 'Platelet Count (K/uL)': [(263.0, 72), (286.0, 72), (294.0, 72), (294.0, 72), (284.0, 72), (257.0, 72)], 'Potassium (mEq/L)': [(5.8, 72), (4.0, 72), (4.1, 72), (4.1, 72), (4.0, 72), (4.1, 72)], 'Protein (mg/dL)': [(30.0, 72)], 'RBC (#/hpf)': [(2.0, 72), (3.0, 72)], 'RDW (%)': [(13.0, 72), (12.9, 72), (12.8, 72), (12.9, 72), (12.8, 72), (13.1, 72)], 'RDW-SD (fL)': [(45.2, 72), (45.2, 72), (44.0, 72), (44.8, 72), (44.4, 72), (46.5, 72)], 'Red Blood Cells (m/uL)': [(4.03, 72), (4.17, 72), (4.29, 72), (4.18, 72), (4.02, 72), (4.09, 72)], 'Sodium (mEq/L)': [(132.0, 72), (134.0, 72), (137.0, 72), (136.0, 72), (140.0, 72), (141.0, 72)], 'Urobilinogen (mg/dL)': [(2.0, 72), (2.0, 72)], 'WBC (#/hpf)': [(1.0, 72), (1.0, 72)], 'White Blood Cells (K/uL)': [(8.6, 72), (8.1, 72), (8.0, 72), (8.3, 72), (7.0, 72), (8.7, 72)], 'demographics': [72, 'M', 'WHITE']}), (10000108, {'Basophils (%)': [(0.3, 25)], 'Bicarbonate (mEq/L)': [(29.0, 25)], 'Chloride (mEq/L)': [(101.0, 25)], 'Creatinine (mg/dL)': [(1.0, 25)], 'Eosinophils (%)': [(0.7, 25)], 'Glucose (mg/dL)': [(88.0, 25)], 'Hematocrit (%)': [(41.7, 25)], 'Hemoglobin (g/dL)': [(14.5, 25)], 'Lymphocytes (%)': [(21.4, 25)], 'MCH (pg)': [(29.5, 25)], 'MCHC (%)': [(34.8, 25)], 'MCV (fL)': [(85.0, 25)], 'Monocytes (%)': [(4.6, 25)], 'Neutrophils (%)': [(72.9, 25)], 'Platelet Count (K/uL)': [(198.0, 25)], 'Potassium (mEq/L)': [(3.5, 25)], 'RDW (%)': [(12.7, 25)], 'Red Blood Cells (m/uL)': [(4.92, 25)], 'Sodium (mEq/L)': [(141.0, 25)], 'White Blood Cells (K/uL)': [(8.5, 25)], 'demographics': [25, 'M', 'WHITE']})]\n",
      "Patient data saved as patient_data.pkl\n"
     ]
    }
   ],
   "source": [
    "from tqdm import tqdm\n",
    "import dask.dataframe as dd\n",
    "import pandas as pd\n",
    "import pickle\n",
    "\n",
    "labevents_df = labevents_df.merge(\n",
    "    patients_df[['subject_id', 'anchor_age', 'anchor_year', 'gender']],\n",
    "    on='subject_id', how='left'\n",
    ")\n",
    "\n",
    "\n",
    "# Function to process each partition of the labevents_df\n",
    "def process_partition(partition):\n",
    "    # Filter out rows that don't match our tests of interest and drop NaN values in valuenum\n",
    "    partition = partition[partition['itemid'].isin(lab_test_map.keys()) & partition['valuenum'].notna()]\n",
    "    \n",
    "    # Add test names and compute the year of the test from charttime\n",
    "    partition['test_name'] = partition['itemid'].map(lab_test_map)\n",
    "    partition['test_year'] = partition['charttime'].str[:4].astype(int)\n",
    "    \n",
    "    # Ensure no null values in test_name and valueuom columns\n",
    "    partition['test_name'] = partition['test_name'].fillna('')\n",
    "    partition['valueuom'] = partition['valueuom'].fillna('')\n",
    "    \n",
    "    # Add the unit of measurement to the test name\n",
    "    partition['test_name_with_unit'] = partition['test_name'] + ' (' + partition['valueuom'] + ')'\n",
    "    \n",
    "    # Compute the age at the time of the test using vectorized operations\n",
    "    partition['age_at_test'] = partition['anchor_age'] + (partition['test_year'] - partition['anchor_year'])\n",
    "    \n",
    "    # Group by subject_id and aggregate results\n",
    "    partition_data = {}\n",
    "    \n",
    "    for person_id, group in partition.groupby('subject_id'):\n",
    "        demographics = [int(group.iloc[0]['anchor_age']), group.iloc[0]['gender'], race_lookup.get(person_id, 'Unknown')]\n",
    "        \n",
    "        # Create a dictionary for each test with (valuenum, age_at_test) tuples\n",
    "        tests = group[['test_name_with_unit', 'valuenum', 'age_at_test']].groupby('test_name_with_unit').apply(\n",
    "            lambda x: list(zip(x['valuenum'], x['age_at_test']))\n",
    "        ).to_dict()\n",
    "        \n",
    "        # Add demographics to the test dictionary\n",
    "        tests['demographics'] = demographics\n",
    "        partition_data[person_id] = tests\n",
    "    \n",
    "    return partition_data\n",
    "\n",
    "# Define the meta for Dask (it tells Dask the structure of the DataFrame)\n",
    "meta = {\n",
    "    'itemid': 'int64',\n",
    "    'valuenum': 'float64',\n",
    "    'valueuom': 'object',\n",
    "    'test_name_with_unit': 'object',\n",
    "    'test_year': 'int64',\n",
    "    'anchor_age': 'int64',\n",
    "    'anchor_year': 'int64',\n",
    "    'gender': 'object',\n",
    "    'charttime': 'object',\n",
    "    'subject_id': 'int64'\n",
    "}\n",
    "\n",
    "# Initialize an empty dictionary to store the final results\n",
    "patient_data = {}\n",
    "\n",
    "# Get the number of partitions in the labevents_df\n",
    "total_partitions = labevents_df.npartitions\n",
    "\n",
    "# Initialize the progress bar\n",
    "progress_bar = tqdm(total=total_partitions, desc=\"Processing Lab Event Partitions\")\n",
    "\n",
    "# Process each partition of the labevents_df and track progress\n",
    "for partition_idx, partition_data in enumerate(labevents_df.map_partitions(process_partition, meta=meta).compute()):\n",
    "    for person_id, data in partition_data.items():\n",
    "        if person_id not in patient_data:\n",
    "            patient_data[person_id] = data\n",
    "        else:\n",
    "            for test_name, measurements in data.items():\n",
    "                if test_name == \"demographics\":\n",
    "                    continue\n",
    "                if test_name in patient_data[person_id]:\n",
    "                    patient_data[person_id][test_name].extend(measurements)\n",
    "                else:\n",
    "                    patient_data[person_id][test_name] = measurements\n",
    "    \n",
    "    # Update progress bar\n",
    "    progress_bar.update(1)\n",
    "\n",
    "# Close the progress bar when done\n",
    "progress_bar.close()\n",
    "\n",
    "# Output the first 5 entries for verification\n",
    "print(list(patient_data.items())[:5])\n",
    "\n",
    "# Save patient_data as a pickle file for faster access later\n",
    "with open('patient_data.pkl', 'wb') as f:\n",
    "    pickle.dump(patient_data, f)\n",
    "\n",
    "print(\"Patient data saved as patient_data.pkl\")\n",
    "\n",
    "\n"
   ]
  },
  {
   "cell_type": "markdown",
   "metadata": {},
   "source": [
    "## Code used to generate excel sheets with test counts "
   ]
  },
  {
   "cell_type": "code",
   "execution_count": null,
   "metadata": {},
   "outputs": [
    {
     "name": "stdout",
     "output_type": "stream",
     "text": [
      "     ItemID                   Test Name  Fluid    Category Unit of Measure  \\\n",
      "62    51221                  Hematocrit  Blood  Hematology               %   \n",
      "21    50912                  Creatinine  Blood   Chemistry           mg/dL   \n",
      "77    51265              Platelet Count  Blood  Hematology            K/uL   \n",
      "63    51222                  Hemoglobin  Blood  Hematology            g/dL   \n",
      "89    51301           White Blood Cells  Blood  Hematology            K/uL   \n",
      "..      ...                         ...    ...         ...             ...   \n",
      "98    51472        Cholesterol Crystals  Urine  Hematology            /hpf   \n",
      "94    51468  Calcium Carbonate Crystals  Urine  Hematology            /hpf   \n",
      "87    51281      Reptilase Time Control  Blood  Hematology             sec   \n",
      "133   52410                 Fatty Casts  Urine  Hematology           #/lpf   \n",
      "92    51465          Bilirubin Crystals  Urine  Hematology            /hpf   \n",
      "\n",
      "       Count  \n",
      "62   4331614  \n",
      "21   4319090  \n",
      "77   4214047  \n",
      "63   4181120  \n",
      "89   4157283  \n",
      "..       ...  \n",
      "98         6  \n",
      "94         6  \n",
      "87         5  \n",
      "133        3  \n",
      "92         2  \n",
      "\n",
      "[151 rows x 6 columns]\n",
      "CSV file saved at: R:\\Kevin\\Data\\MIMIC\\sorted_test_counts_with_category.csv\n"
     ]
    }
   ],
   "source": [
    "\n",
    "\n",
    "# Extract test itemids from filtered_tests_result to match in the sampled_labevents_df\n",
    "test_itemids = filtered_tests_result['itemid'].unique()\n",
    "\n",
    "# Create a mapping of itemid to test label (name), fluid, and category\n",
    "itemid_to_label = dict(zip(filtered_tests_result['itemid'], filtered_tests_result['label']))\n",
    "itemid_to_fluid = dict(zip(filtered_tests_result['itemid'], filtered_tests_result['fluid']))\n",
    "itemid_to_category = dict(zip(filtered_tests_result['itemid'], filtered_tests_result['category']))\n",
    "\n",
    "# Filter the sampled_labevents_df to include only rows with itemids that match the tests of interest\n",
    "matched_tests_df = labevents_df[labevents_df['itemid'].isin(test_itemids)]\n",
    "\n",
    "# Count the number of occurrences of each test (by itemid) in the sampled_labevents_df\n",
    "test_counts = matched_tests_df.groupby(['itemid', 'valueuom']).size().reset_index(name='Count')\n",
    "\n",
    "# Add test names, fluid, and category to the DataFrame using the itemid_to_label, itemid_to_fluid, and itemid_to_category mappings\n",
    "test_counts['Test Name'] = test_counts['itemid'].map(itemid_to_label)\n",
    "test_counts['Fluid'] = test_counts['itemid'].map(itemid_to_fluid)\n",
    "test_counts['Category'] = test_counts['itemid'].map(itemid_to_category)\n",
    "\n",
    "# Reorder the columns to display itemid, test name, fluid, category, unit of measure, and count\n",
    "test_counts_df = test_counts[['itemid', 'Test Name', 'Fluid', 'Category', 'valueuom', 'Count']]\n",
    "\n",
    "# Rename the columns\n",
    "test_counts_df.columns = ['ItemID', 'Test Name', 'Fluid', 'Category', 'Unit of Measure', 'Count']\n",
    "\n",
    "# Sort the DataFrame by the 'Count' column in decreasing order\n",
    "test_counts_df_sorted = test_counts_df.sort_values(by='Count', ascending=False)\n",
    "\n",
    "# Display the sorted DataFrame\n",
    "print(test_counts_df_sorted)\n",
    "\n",
    "# Export the sorted DataFrame to a CSv file and save it to the local directory\n",
    "output_csv_path = os.path.join(data_dir, 'sorted_test_counts_with_category.csv')\n",
    "test_counts_df_sorted.to_csv(output_csv_path, index=False)\n",
    "\n",
    "print(f\"CSV file saved at: {output_csv_path}\")\n",
    "\n",
    "\n"
   ]
  }
 ],
 "metadata": {
  "kernelspec": {
   "display_name": "Python 3",
   "language": "python",
   "name": "python3"
  },
  "language_info": {
   "codemirror_mode": {
    "name": "ipython",
    "version": 3
   },
   "file_extension": ".py",
   "mimetype": "text/x-python",
   "name": "python",
   "nbconvert_exporter": "python",
   "pygments_lexer": "ipython3",
   "version": "3.12.5"
  }
 },
 "nbformat": 4,
 "nbformat_minor": 2
}
